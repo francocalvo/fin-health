{
 "cells": [
  {
   "cell_type": "code",
   "execution_count": 41,
   "id": "0c043e5d-c1dd-4a60-877b-dc9caf84d044",
   "metadata": {},
   "outputs": [],
   "source": [
    "from datetime import datetime, date\n",
    "from dateutil.relativedelta import relativedelta\n",
    "from logging import getLogger\n",
    "from dateutil import rrule\n",
    "\n",
    "import pandas as pd\n",
    "import numpy as np\n",
    "import numpy_financial as npf\n",
    "\n",
    "\n",
    "from pgloader.engine import PostgresEngineCreator\n",
    "from pgloader.ledger import Ledger\n",
    "from pgloader.tables import available_tables\n",
    "from pgloader.utils import create_parser, setup_logger"
   ]
  },
  {
   "cell_type": "code",
   "execution_count": 42,
   "id": "8f195523-457d-4fac-904d-edccb6bb1036",
   "metadata": {},
   "outputs": [],
   "source": [
    "period = rrule.rrule(rrule.MONTHLY, dtstart=date(2023, 1,1), bymonthday=1, count=31)"
   ]
  },
  {
   "cell_type": "code",
   "execution_count": 43,
   "id": "e933b766-1e76-4b4f-81a2-3d8359fc86dd",
   "metadata": {},
   "outputs": [],
   "source": [
    "INTERVAL = 6\n",
    "INTEREST_RATE = 0.06\n",
    "YEARS = 30"
   ]
  },
  {
   "cell_type": "code",
   "execution_count": 44,
   "id": "766a7308-e6db-4e78-80e2-947ebe97aadb",
   "metadata": {},
   "outputs": [],
   "source": [
    "le = Ledger(\"~/Nextcloud/Finanzas/Beans/main.bean\")"
   ]
  },
  {
   "cell_type": "markdown",
   "id": "866b2e91-fced-4382-aa3d-27034cb1fe7e",
   "metadata": {},
   "source": [
    "# Data collection\n",
    "\n",
    "Leer income y expenses en los ultimos `INTERVAL` meses.\n",
    "\n",
    "El resultado es el ahorro por mes en `save_per_month`. "
   ]
  },
  {
   "cell_type": "markdown",
   "id": "05a7fa7f-63a1-4a02-8d75-c0ada75a2c3d",
   "metadata": {},
   "source": [
    "## Saving rate "
   ]
  },
  {
   "cell_type": "code",
   "execution_count": 45,
   "id": "f01fbb97-ce0a-41b9-a7ee-663948f30917",
   "metadata": {},
   "outputs": [],
   "source": [
    "today = datetime.today() \n",
    "date_until = date(today.year, today.month, 1)\n",
    "date_from = date_until - relativedelta(months=+INTERVAL)"
   ]
  },
  {
   "cell_type": "markdown",
   "id": "9f091002-3624-4c39-9ab2-8dd83b79878d",
   "metadata": {},
   "source": [
    "### Expenses"
   ]
  },
  {
   "cell_type": "code",
   "execution_count": 46,
   "id": "e4b99d1d-47e4-4294-9b02-9e4c111e6a60",
   "metadata": {},
   "outputs": [],
   "source": [
    "query_expenses = f\"\"\"\n",
    "SELECT\n",
    "    SUM(CONVERT(POSITION, 'USD', DATE)) AS amount_usd\n",
    "WHERE account ~ '^Expenses'\n",
    "    AND DATE < DATE('{date_until}')\n",
    "    AND DATE >= DATE('{date_from}')\n",
    "\"\"\""
   ]
  },
  {
   "cell_type": "code",
   "execution_count": 47,
   "id": "0ca56591-4e1c-403f-8ad1-35ce06ebc5e6",
   "metadata": {},
   "outputs": [],
   "source": [
    "_, res_ex = le.run_query(query_expenses)"
   ]
  },
  {
   "cell_type": "code",
   "execution_count": 48,
   "id": "24bd4ba8-4094-4adb-92ce-82d82d09bb78",
   "metadata": {},
   "outputs": [],
   "source": [
    "expenses_usd = res_ex[0].amount_usd.get_only_position().units.number"
   ]
  },
  {
   "cell_type": "markdown",
   "id": "7684fdba-73cd-4dc1-adfa-7e8c6ddb22a2",
   "metadata": {},
   "source": [
    "### Income"
   ]
  },
  {
   "cell_type": "code",
   "execution_count": 49,
   "id": "ecfea80c-175f-4c05-933c-ac0ca70e2cad",
   "metadata": {},
   "outputs": [],
   "source": [
    "query_income = f\"\"\"\n",
    "SELECT\n",
    "    SUM(CONVERT(POSITION, 'USD', DATE)) AS amount_usd\n",
    "WHERE account ~ ':Job:'\n",
    "    AND DATE < DATE('{date_until}')\n",
    "    AND DATE >= DATE('{date_from}')\n",
    "\"\"\""
   ]
  },
  {
   "cell_type": "code",
   "execution_count": 50,
   "id": "b173cdfe-e5b8-4682-92a1-df7d0a29f124",
   "metadata": {},
   "outputs": [],
   "source": [
    "_, res_in = le.run_query(query_income)\n",
    "income_usd = res_in[0].amount_usd.get_only_position().units.number"
   ]
  },
  {
   "cell_type": "markdown",
   "id": "4d160170-3db0-420f-8d3a-a9b5cbacc699",
   "metadata": {},
   "source": [
    "### Save rate"
   ]
  },
  {
   "cell_type": "code",
   "execution_count": 66,
   "id": "d6f3e9b0-1cd3-4e75-8490-c1f239aeba2b",
   "metadata": {},
   "outputs": [
    {
     "name": "stdout",
     "output_type": "stream",
     "text": [
      "-12600 4288.345448716470042195326623\n"
     ]
    }
   ],
   "source": [
    "print(income_usd, expenses_usd)"
   ]
  },
  {
   "cell_type": "code",
   "execution_count": 51,
   "id": "b9ab7dca-ab15-4ea9-9c5a-e9feafbcdc46",
   "metadata": {},
   "outputs": [],
   "source": [
    "save_per_month = float((abs(income_usd) - abs(expenses_usd)) / INTERVAL)"
   ]
  },
  {
   "cell_type": "markdown",
   "id": "46581533-cf10-4556-9f2b-15020a4ab2fc",
   "metadata": {},
   "source": [
    "## Initial capital"
   ]
  },
  {
   "cell_type": "markdown",
   "id": "72d7dafe-0e90-4bd0-8e03-88be6da63072",
   "metadata": {},
   "source": [
    "### Assets"
   ]
  },
  {
   "cell_type": "code",
   "execution_count": 52,
   "id": "394de6e1-9b12-4f40-9baa-4480f00ecb7e",
   "metadata": {},
   "outputs": [],
   "source": [
    "query_assets = \"\"\"\n",
    "SELECT SUM(CONVERT(POSITION, 'USD', DATE)) AS amount_usd\n",
    "WHERE Account ~ '^Assets' \n",
    "\"\"\""
   ]
  },
  {
   "cell_type": "code",
   "execution_count": 53,
   "id": "6d258133-9b93-4c09-a001-299af63d9543",
   "metadata": {},
   "outputs": [],
   "source": [
    "_, res_ass = le.run_query(query_assets)\n",
    "assets_usd = res_ass[0].amount_usd.get_only_position().units.number"
   ]
  },
  {
   "cell_type": "markdown",
   "id": "43e97126-9c44-4f00-b76c-56c652859191",
   "metadata": {},
   "source": [
    "### Liabilities"
   ]
  },
  {
   "cell_type": "code",
   "execution_count": 54,
   "id": "a5e116ae-8e5c-41f9-aed3-9108e88b5a5e",
   "metadata": {},
   "outputs": [],
   "source": [
    "query_liabilities = \"\"\"\n",
    "SELECT SUM(CONVERT(POSITION, 'USD', DATE)) AS amount_usd\n",
    "WHERE Account ~ '^Liabilities' \n",
    "\"\"\""
   ]
  },
  {
   "cell_type": "code",
   "execution_count": 55,
   "id": "820f3ace-f920-42ac-9794-9be3d00cb49d",
   "metadata": {},
   "outputs": [],
   "source": [
    "t, res_liab = le.run_query(query_liabilities)\n",
    "liabilities_usd = res_liab[0].amount_usd.get_only_position().units.number"
   ]
  },
  {
   "cell_type": "code",
   "execution_count": 56,
   "id": "938ab6dc-ecd3-43fc-b60e-6a2e1be4a344",
   "metadata": {},
   "outputs": [],
   "source": [
    "initial_amount = float(assets_usd - liabilities_usd)"
   ]
  },
  {
   "cell_type": "markdown",
   "id": "ef4f01ff-f6d0-4ccf-b81c-ca30f3d5fea2",
   "metadata": {},
   "source": [
    "# Analysis"
   ]
  },
  {
   "cell_type": "code",
   "execution_count": 57,
   "id": "4b340fdd-ed92-423b-ad6a-c046f7fc6152",
   "metadata": {},
   "outputs": [],
   "source": [
    "# Monthly interest rate\n",
    "monthly_interest_rate = INTEREST_RATE / 12\n",
    "\n",
    "months = 12 * YEARS + 1\n",
    "\n",
    "# Initialize an array to store the date and future value\n",
    "future_values_dates = np.zeros((YEARS * 12 + 1, 2), dtype='object')"
   ]
  },
  {
   "cell_type": "code",
   "execution_count": 58,
   "id": "0415a724-0156-452e-8b0e-eb5e1cb02087",
   "metadata": {},
   "outputs": [],
   "source": [
    "df = pd.DataFrame(future_values_dates, columns=['Date', 'Future Value'])"
   ]
  },
  {
   "cell_type": "code",
   "execution_count": 59,
   "id": "31b70410-6221-4a3e-951f-5bcd40704603",
   "metadata": {},
   "outputs": [
    {
     "data": {
      "text/plain": [
       "-1540111.3555074986"
      ]
     },
     "execution_count": 59,
     "metadata": {},
     "output_type": "execute_result"
    }
   ],
   "source": [
    "npf.fv(monthly_interest_rate, 12 * YEARS, save_per_month, initial_amount)"
   ]
  },
  {
   "cell_type": "code",
   "execution_count": 60,
   "id": "d1f16f07-76ed-4b53-a24c-06fc674a131f",
   "metadata": {},
   "outputs": [
    {
     "data": {
      "text/html": [
       "<div>\n",
       "<style scoped>\n",
       "    .dataframe tbody tr th:only-of-type {\n",
       "        vertical-align: middle;\n",
       "    }\n",
       "\n",
       "    .dataframe tbody tr th {\n",
       "        vertical-align: top;\n",
       "    }\n",
       "\n",
       "    .dataframe thead th {\n",
       "        text-align: right;\n",
       "    }\n",
       "</style>\n",
       "<table border=\"1\" class=\"dataframe\">\n",
       "  <thead>\n",
       "    <tr style=\"text-align: right;\">\n",
       "      <th></th>\n",
       "      <th>Date</th>\n",
       "      <th>Future Value</th>\n",
       "    </tr>\n",
       "  </thead>\n",
       "  <tbody>\n",
       "    <tr>\n",
       "      <th>0</th>\n",
       "      <td>0</td>\n",
       "      <td>0</td>\n",
       "    </tr>\n",
       "    <tr>\n",
       "      <th>1</th>\n",
       "      <td>0</td>\n",
       "      <td>0</td>\n",
       "    </tr>\n",
       "    <tr>\n",
       "      <th>2</th>\n",
       "      <td>0</td>\n",
       "      <td>0</td>\n",
       "    </tr>\n",
       "    <tr>\n",
       "      <th>3</th>\n",
       "      <td>0</td>\n",
       "      <td>0</td>\n",
       "    </tr>\n",
       "    <tr>\n",
       "      <th>4</th>\n",
       "      <td>0</td>\n",
       "      <td>0</td>\n",
       "    </tr>\n",
       "    <tr>\n",
       "      <th>...</th>\n",
       "      <td>...</td>\n",
       "      <td>...</td>\n",
       "    </tr>\n",
       "    <tr>\n",
       "      <th>356</th>\n",
       "      <td>0</td>\n",
       "      <td>0</td>\n",
       "    </tr>\n",
       "    <tr>\n",
       "      <th>357</th>\n",
       "      <td>0</td>\n",
       "      <td>0</td>\n",
       "    </tr>\n",
       "    <tr>\n",
       "      <th>358</th>\n",
       "      <td>0</td>\n",
       "      <td>0</td>\n",
       "    </tr>\n",
       "    <tr>\n",
       "      <th>359</th>\n",
       "      <td>0</td>\n",
       "      <td>0</td>\n",
       "    </tr>\n",
       "    <tr>\n",
       "      <th>360</th>\n",
       "      <td>0</td>\n",
       "      <td>0</td>\n",
       "    </tr>\n",
       "  </tbody>\n",
       "</table>\n",
       "<p>361 rows × 2 columns</p>\n",
       "</div>"
      ],
      "text/plain": [
       "    Date Future Value\n",
       "0      0            0\n",
       "1      0            0\n",
       "2      0            0\n",
       "3      0            0\n",
       "4      0            0\n",
       "..   ...          ...\n",
       "356    0            0\n",
       "357    0            0\n",
       "358    0            0\n",
       "359    0            0\n",
       "360    0            0\n",
       "\n",
       "[361 rows x 2 columns]"
      ]
     },
     "execution_count": 60,
     "metadata": {},
     "output_type": "execute_result"
    }
   ],
   "source": [
    "df"
   ]
  },
  {
   "cell_type": "code",
   "execution_count": 65,
   "id": "9cffc0e2-2209-4715-87d7-3d86026d5f58",
   "metadata": {},
   "outputs": [
    {
     "name": "stdout",
     "output_type": "stream",
     "text": [
      "0.005\n"
     ]
    }
   ],
   "source": [
    "print(monthly_interest_rate)"
   ]
  },
  {
   "cell_type": "code",
   "execution_count": 61,
   "id": "5dec3524-ee94-414b-85d0-26575746f055",
   "metadata": {},
   "outputs": [
    {
     "name": "stdout",
     "output_type": "stream",
     "text": [
      "         Date  Future Value\n",
      "0  2024-03-01  26179.307868\n",
      "1  2024-04-01  27695.480166\n",
      "2  2024-05-01  29219.233325\n",
      "3  2024-06-01  30750.605250\n",
      "4  2024-07-01  32289.634035\n"
     ]
    }
   ],
   "source": [
    "dates = [date_until + relativedelta(months=+month) for month in range(months)]\n",
    "\n",
    "# Calculate future value for the initial amount\n",
    "#fv_initial_amount = npf.fv(rate=monthly_interest_rate, nper=np.arange(1, months + 1), pmt=0, pv=-initial_amount)\n",
    "\n",
    "# Calculate future value for monthly contributions\n",
    "fv_monthly_contributions = np.array([npf.fv(rate=monthly_interest_rate, nper=month, pmt=-save_per_month, pv=-initial_amount) for month in range(1, months + 1)])\n",
    "\n",
    "# Total future value combines both the initial amount's growth and the contributions\n",
    "total_fv = fv_monthly_contributions #+  fv_initial_amount\n",
    "\n",
    "# Create a pandas DataFrame\n",
    "df_fv = pd.DataFrame({'Date': dates, 'Future Value': total_fv})\n",
    "\n",
    "# Display the first few rows of the DataFrame\n",
    "print(df_fv.head())"
   ]
  },
  {
   "cell_type": "code",
   "execution_count": 62,
   "id": "17e03bac-e39d-4c5d-9dd2-0c9be5ca0d9d",
   "metadata": {},
   "outputs": [
    {
     "name": "stdout",
     "output_type": "stream",
     "text": [
      "           Date  Future Value\n",
      "0    2024-03-01  2.617931e+04\n",
      "1    2024-04-01  2.769548e+04\n",
      "2    2024-05-01  2.921923e+04\n",
      "3    2024-06-01  3.075061e+04\n",
      "4    2024-07-01  3.228963e+04\n",
      "..          ...           ...\n",
      "356  2053-11-01  1.513124e+06\n",
      "357  2053-12-01  1.522075e+06\n",
      "358  2054-01-01  1.531071e+06\n",
      "359  2054-02-01  1.540111e+06\n",
      "360  2054-03-01  1.549197e+06\n",
      "\n",
      "[361 rows x 2 columns]\n"
     ]
    }
   ],
   "source": [
    "print(df_fv)"
   ]
  },
  {
   "cell_type": "code",
   "execution_count": 63,
   "id": "134cf4f0-2e3f-4140-adcf-18e4e765bbb8",
   "metadata": {},
   "outputs": [
    {
     "data": {
      "text/plain": [
       "beancount.query.query_execute.ResultRow"
      ]
     },
     "execution_count": 63,
     "metadata": {},
     "output_type": "execute_result"
    }
   ],
   "source": [
    "type(res_in[0])"
   ]
  },
  {
   "cell_type": "code",
   "execution_count": 64,
   "id": "677896aa-b4ef-4dd8-934c-3230f9bb73ee",
   "metadata": {},
   "outputs": [
    {
     "name": "stdout",
     "output_type": "stream",
     "text": [
      "('amount_usd', <class 'beancount.core.inventory.Inventory'>)\n"
     ]
    }
   ],
   "source": [
    "print(t[0])"
   ]
  },
  {
   "cell_type": "code",
   "execution_count": null,
   "id": "25a95323-b950-4499-bdfd-606db35417c9",
   "metadata": {},
   "outputs": [],
   "source": []
  }
 ],
 "metadata": {
  "kernelspec": {
   "display_name": "Python 3 (ipykernel)",
   "language": "python",
   "name": "python3"
  },
  "language_info": {
   "codemirror_mode": {
    "name": "ipython",
    "version": 3
   },
   "file_extension": ".py",
   "mimetype": "text/x-python",
   "name": "python",
   "nbconvert_exporter": "python",
   "pygments_lexer": "ipython3",
   "version": "3.11.5"
  }
 },
 "nbformat": 4,
 "nbformat_minor": 5
}
